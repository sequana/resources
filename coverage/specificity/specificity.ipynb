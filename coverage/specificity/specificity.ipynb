{
 "cells": [
  {
   "cell_type": "markdown",
   "metadata": {},
   "source": [
    "# Testing specificity"
   ]
  },
  {
   "cell_type": "markdown",
   "metadata": {},
   "source": [
    "    Author: Thomas Cokelaer\n",
    "    Jan 2018"
   ]
  },
  {
   "cell_type": "markdown",
   "metadata": {},
   "source": [
    "Testing specificity (ratio of the number of true negatives to the number of negatives).\n",
    "We use the data and strategy described in section 3.2 of \"CNOGpro: detection and quantification \n",
    "of  CNVs in prokaryotic whole-genome sequencing data, bioinformatics 31(11), 2015 (Brynildsrud et al)\""
   ]
  },
  {
   "cell_type": "markdown",
   "metadata": {},
   "source": [
    "Here, we will use the same reference: FN433596 (staphylococcus aureus)"
   ]
  },
  {
   "cell_type": "markdown",
   "metadata": {},
   "source": [
    "Goal is to check that the specificity is low and sensitivity is high (by injection of CNVs)."
   ]
  },
  {
   "cell_type": "markdown",
   "metadata": {},
   "source": [
    "# Requirements"
   ]
  },
  {
   "cell_type": "markdown",
   "metadata": {},
   "source": [
    "- sequana version 0.6.3post1 was used\n",
    "- art_illumina\n",
    "- bioconvert (optional)"
   ]
  },
  {
   "cell_type": "markdown",
   "metadata": {},
   "source": [
    "# Get the reference "
   ]
  },
  {
   "cell_type": "code",
   "execution_count": 209,
   "metadata": {},
   "outputs": [
    {
     "name": "stdout",
     "output_type": "stream",
     "text": [
      "\u001b[32mINFO    [sequana]: \u001b[0m \u001b[34mDownloading reference FN433596 from ENA\n",
      "\u001b[0m\n",
      "\u001b[0m"
     ]
    }
   ],
   "source": [
    "!sequana_coverage --download-reference FN433596"
   ]
  },
  {
   "cell_type": "markdown",
   "metadata": {},
   "source": [
    "# simulated data "
   ]
  },
  {
   "cell_type": "markdown",
   "metadata": {},
   "source": [
    "Simulation of data coverage 100X\n",
    "\n",
    "```\n",
    "-l: length of the reads\n",
    "-f: coverage\n",
    "-m: mean size of fragments\n",
    "-s: standard deviation of fragment size\n",
    "-ss: type of hiseq\n",
    "```\n",
    "This taks a few minutes to produce "
   ]
  },
  {
   "cell_type": "code",
   "execution_count": 199,
   "metadata": {},
   "outputs": [
    {
     "name": "stdout",
     "output_type": "stream",
     "text": [
      "=======================================ART======================================\n",
      "                            ART_Illumina (2008-2015)                            \n",
      "                            Q Version 2.3.7 (Mar 19, 2015)                      \n",
      "                     Contact: Weichun Huang at whduke@gmail.com                 \n",
      "================================================================================\n",
      "\n",
      "                          Paired-end sequencing simulation\n",
      "\n",
      "Total CPU time used: 51.6\n",
      "\n",
      "The random seed for the run: 1515972964\n",
      "\n",
      "Parameters used during run\n",
      "\tRead Length:\t100\n",
      "\tGenome masking 'N' cutoff frequency: \t1 in 100\n",
      "\tFold Coverage:            100X\n",
      "\tMean Fragment Length:     500\n",
      "\tStandard Deviation:       40\n",
      "\tProfile Type:             Combined\n",
      "\tID Tag:                   \n",
      "\n",
      "Quality Profile(s)\n",
      "\tFirst Read:   HiSeq 2000 Length 100 R1 (built-in profile) \n",
      "\tFirst Read:   HiSeq 2000 Length 100 R2 (built-in profile) \n",
      "Output files\n",
      "\n",
      "  FASTQ Sequence Files:\n",
      "\t the 1st reads: paired_dat1.fq\n",
      "\t the 2nd reads: paired_dat2.fq\n",
      "\n",
      "  ALN Alignment Files:\n",
      "\t the 1st reads: paired_dat1.aln\n",
      "\t the 2nd reads: paired_dat2.aln\n",
      "\n",
      "  SAM Alignment File:\n",
      "\tpaired_dat.sam\n",
      "\n"
     ]
    }
   ],
   "source": [
    "! art_illumina -sam -i FN433596.fa -p -l 100 -ss HS20 -f 20 -m 500 -s 40 -o paired_dat -f 100"
   ]
  },
  {
   "cell_type": "markdown",
   "metadata": {},
   "source": [
    "# mapping"
   ]
  },
  {
   "cell_type": "code",
   "execution_count": 203,
   "metadata": {
    "scrolled": true
   },
   "outputs": [],
   "source": [
    "# no need for the *aln and *sam, let us remove them to save space\n",
    "!rm -f paired*.aln paired_dat.sam\n",
    "!sequana_mapping --reference FN433596.fa --file1 paired_dat1.fq --file2 paired_dat2.fq  1>out 2>err"
   ]
  },
  {
   "cell_type": "markdown",
   "metadata": {},
   "source": [
    "\n",
    "This uses bwa and samtools behind the scene. Then, we will convert the resulting BAM file (FN433596.fasta.sorted.bam) into a BED file once for all. To do so, we use bioconvert (bioconvert.readthedocs.io) that uses bedtools behind the scene:\n",
    "\n",
    "\n",
    "You can clean you directory. We just need the BED file:\n",
    "\n",
    "```\n",
    "rm FN433596.fa.sorted.bam\n",
    "```"
   ]
  },
  {
   "cell_type": "code",
   "execution_count": 218,
   "metadata": {},
   "outputs": [
    {
     "name": "stdout",
     "output_type": "stream",
     "text": [
      "\u001b[33mWARNING [bioconvert.core.converter]: \u001b[0m \u001b[34moutput file exists already\u001b[0m\n",
      "\u001b[33mWARNING [bioconvert.core.converter]: \u001b[0m \u001b[34moutput file will be overwritten\u001b[0m\n",
      "\u001b[32mINFO    [bioconvert.core.converter]: \u001b[0m \u001b[34mInput: .bam\u001b[0m\n",
      "\u001b[32mINFO    [bioconvert.core.converter]: \u001b[0m \u001b[34mOutput: .bed\u001b[0m\n",
      "\u001b[32mINFO    [bioconvert.core.converter]: \u001b[0m \u001b[34mUsing BAM2BED class\u001b[0m\n",
      "\u001b[32mINFO    [bioconvert]: \u001b[0m \u001b[34mConverting from .bam to .bed\u001b[0m\n",
      "\u001b[32mINFO    [bioconvert.core.base]: \u001b[0m \u001b[34mExecuting samtools method\u001b[0m\n",
      "\u001b[32mINFO    [bioconvert.core.base]: \u001b[0m \u001b[34mBAM2BED> \u001b[0m\n",
      "\u001b[32mINFO    [bioconvert.core.base]: \u001b[0m \u001b[34mCMD: samtools depth -aa FN433596.fa.sorted.bam > simulated.bed\u001b[0m\n",
      "\u001b[32mINFO    [bioconvert.core.shell]: \u001b[0m \u001b[34msamtools depth -aa FN433596.fa.sorted.bam > simulated.bed\u001b[0m\n",
      "\u001b[32mINFO    [bioconvert.core.base]: \u001b[0m \u001b[34mTook 16.61863660812378 seconds \u001b[0m\n",
      "\u001b[0m"
     ]
    }
   ],
   "source": [
    "!bioconvert FN433596.fa.sorted.bam simulated.bed -f\n",
    "# or use e.g. bedtools:\n",
    "# bedtools genomecov -d -ibam input.bam > output.bed"
   ]
  },
  {
   "cell_type": "markdown",
   "metadata": {},
   "source": [
    "# sequana_coverage"
   ]
  },
  {
   "cell_type": "code",
   "execution_count": 208,
   "metadata": {},
   "outputs": [
    {
     "name": "stdout",
     "output_type": "stream",
     "text": [
      "\u001b[32mINFO    [sequana]: \u001b[0m \u001b[34mReading simulated.bed. This may take time depending on your input file\u001b[0m\n",
      "\u001b[32mINFO    [sequana]: \u001b[0m \u001b[34mComputing GC content\u001b[0m\n",
      "\u001b[33mWARNING [sequana]: \u001b[0m \u001b[34mThere is only one chromosome. Selected automatically.\u001b[0m\n",
      "\n",
      "Genome length: 3043210\n",
      "Sequencing depth (DOC):    99.99 \n",
      "Sequencing depth (median):   100.00 \n",
      "Breadth of coverage (BOC) (percent): 100.00 \n",
      "Genome coverage standard deviation :    10.11 \n",
      "Genome coverage coefficient variation :     0.10 \n",
      "\u001b[32mINFO    [sequana]: \u001b[0m \u001b[34mComputing running median (w=40001)\u001b[0m\n",
      "Number of mixture model 2 \n",
      "Computing zscore\n",
      "\u001b[33mWARNING [sequana]: \u001b[0m \u001b[34mWarning: k=2 but note that |mu0-mu1| < sigma0. k=1 could be a better choice\u001b[0m\n",
      "Number of ROIs found: 24\n",
      "\u001b[32mINFO    [sequana]: \u001b[0m \u001b[34mComputing centralness\u001b[0m\n",
      "Low threshold: -4\n",
      "High threshold: 4\n",
      "double-low threshold: -2.0\n",
      "double-high threshold: 2.0\n",
      "sigma and mu of the central distribution: mu=1.008, sigma=0.103\n",
      "Evenness:    0.960\n",
      "Centralness (3 sigma): 0.996000\n",
      "Centralness (4 sigma): 0.999600\n",
      "\n",
      "\n",
      "\n",
      "\u001b[32mINFO    [sequana]: \u001b[0m \u001b[34mCreating report in report. Please wait\u001b[0m\n",
      "\u001b[32mINFO    [sequana]: \u001b[0m \u001b[34mCreating coverage report ENA|FN433596|FN433596.1\u001b[0m\n",
      "Computing 2D histogram. Please wait\n",
      "/home/cokelaer/miniconda3/envs/py3/lib/python3.5/site-packages/matplotlib/contour.py:967: UserWarning: The following kwargs were not used by contour: 'color'\n",
      "  s)\n",
      "\u001b[0m"
     ]
    }
   ],
   "source": [
    "!sequana_coverage --input simulated.bed --reference FN433596.fa -w 40001 -o --logging-level WARNING\n",
    "!cp report/*/*/rois.csv rois_noise_40001.csv"
   ]
  },
  {
   "cell_type": "markdown",
   "metadata": {
    "collapsed": true
   },
   "source": [
    "Several ROIs are found. There is none in CNOGpro. \n",
    "The ROIs have zscore between 4 and 5. "
   ]
  },
  {
   "cell_type": "code",
   "execution_count": 210,
   "metadata": {},
   "outputs": [
    {
     "name": "stdout",
     "output_type": "stream",
     "text": [
      "Populating the interactive namespace from numpy and matplotlib\n"
     ]
    },
    {
     "name": "stderr",
     "output_type": "stream",
     "text": [
      "/home/cokelaer/miniconda3/envs/py3/lib/python3.5/site-packages/IPython/core/magics/pylab.py:160: UserWarning: pylab import has clobbered these variables: ['random', 'size']\n",
      "`%matplotlib` prevents importing * from pylab and numpy\n",
      "  \"\\n`%matplotlib` prevents importing * from pylab and numpy\"\n"
     ]
    }
   ],
   "source": [
    "%pylab inline"
   ]
  },
  {
   "cell_type": "code",
   "execution_count": 212,
   "metadata": {
    "collapsed": true
   },
   "outputs": [],
   "source": [
    "#Here is a convenient function to plot the ROIs in terms of sizes and max zscore\n",
    "\n",
    "def plot_results(file_roi):\n",
    "    import pandas as pd\n",
    "    roi = pd.read_csv(file_roi) #\"rois_cnv_deletion.csv\")\n",
    "    roi = roi.query(\"start>100 and end<3043210\")\n",
    "    plot(roi[\"size\"], roi[\"max_zscore\"], \"o\")\n",
    "    for this in [3,4,-3,-4]:\n",
    "        axhline(this)\n",
    "    print(len(roi))\n",
    "    return roi"
   ]
  },
  {
   "cell_type": "code",
   "execution_count": 213,
   "metadata": {},
   "outputs": [
    {
     "name": "stdout",
     "output_type": "stream",
     "text": [
      "22\n"
     ]
    },
    {
     "data": {
      "image/png": "[encoded data removed]",
      "text/plain": [
       "<matplotlib.figure.Figure at 0x7f304bf14748>"
      ]
     },
     "metadata": {},
     "output_type": "display_data"
    }
   ],
   "source": [
    "roi = plot_results(\"rois_noise_40001.csv\")"
   ]
  },
  {
   "cell_type": "markdown",
   "metadata": {},
   "source": [
    "# Decrease threshold to 3"
   ]
  },
  {
   "cell_type": "code",
   "execution_count": 219,
   "metadata": {},
   "outputs": [
    {
     "name": "stdout",
     "output_type": "stream",
     "text": [
      "\u001b[33mWARNING [sequana]: \u001b[0m \u001b[34mThere is only one chromosome. Selected automatically.\u001b[0m\n",
      "\n",
      "Genome length: 3043210\n",
      "Sequencing depth (DOC):    99.99 \n",
      "Sequencing depth (median):   100.00 \n",
      "Breadth of coverage (BOC) (percent): 100.00 \n",
      "Genome coverage standard deviation :    10.11 \n",
      "Genome coverage coefficient variation :     0.10 \n",
      "Number of mixture model 2 \n",
      "Computing zscore\n",
      "\u001b[33mWARNING [sequana]: \u001b[0m \u001b[34mWarning: k=2 but note that |mu0-mu1| < sigma0. k=1 could be a better choice\u001b[0m\n",
      "Number of ROIs found: 493\n",
      "Low threshold: -3.0\n",
      "High threshold: 3.0\n",
      "double-low threshold: -1.5\n",
      "double-high threshold: 1.5\n",
      "sigma and mu of the central distribution: mu=1.008, sigma=0.103\n",
      "Evenness:    0.960\n",
      "Centralness (3 sigma): 0.996000\n",
      "Centralness (4 sigma): 0.999600\n",
      "\n",
      "\n",
      "\n",
      "Computing 2D histogram. Please wait\n",
      "/home/cokelaer/miniconda3/envs/py3/lib/python3.5/site-packages/matplotlib/contour.py:967: UserWarning: The following kwargs were not used by contour: 'color'\n",
      "  s)\n",
      "\u001b[0m"
     ]
    }
   ],
   "source": [
    "!sequana_coverage --input simulated.bed --reference FN433596.fa -w 40001 -o -H 3 -L -3 --logging-level WARNING \n",
    "!cp report/*/*/rois.csv rois_noise_40001_threshold3.csv"
   ]
  },
  {
   "cell_type": "code",
   "execution_count": 220,
   "metadata": {},
   "outputs": [
    {
     "name": "stdout",
     "output_type": "stream",
     "text": [
      "491\n"
     ]
    },
    {
     "data": {
      "image/png": "[encoded data removed]",
      "text/plain": [
       "<matplotlib.figure.Figure at 0x7f304bf01f98>"
      ]
     },
     "metadata": {},
     "output_type": "display_data"
    }
   ],
   "source": [
    "roi = plot_results(\"rois_noise_40001_threshold3.csv\")"
   ]
  },
  {
   "cell_type": "markdown",
   "metadata": {},
   "source": [
    "# Checking CNV detection"
   ]
  },
  {
   "cell_type": "markdown",
   "metadata": {},
   "source": [
    "## Mix of deletion, duplication "
   ]
  },
  {
   "cell_type": "code",
   "execution_count": 221,
   "metadata": {},
   "outputs": [],
   "source": [
    "import random\n",
    "\n",
    "def create_deletion():\n",
    "    df = pd.read_csv(\"simulated.bed\", sep=\"\\t\", header=None)\n",
    "    positions = []\n",
    "    sizes = []\n",
    "    for i in range(80):\n",
    "        # the + and -4000 shift are there to guarantee the next\n",
    "        # CNV does not overlap with the previous one since\n",
    "        # CNV length can be as much as 8000\n",
    "        pos = random.randint(37000*i+4000, 37000*(i+1)-4000)\n",
    "        size = random.randint(1,8) * 1000\n",
    "        positions.append(pos)    \n",
    "        #size = 2000\n",
    "        df.loc[pos:pos+size,2] = 0 #deletion\n",
    "        sizes.append(size)\n",
    "    df.to_csv(\"cnv_deletion.bed\", sep=\"\\t\", header=None, index=None)\n",
    "    return positions, sizes\n",
    "\n",
    "\n",
    "def create_duplicated():\n",
    "    df = pd.read_csv(\"simulated.bed\", sep=\"\\t\", header=None)\n",
    "    positions = []\n",
    "    sizes = []\n",
    "    for i in range(80):\n",
    "        pos = random.randint(37000*i+4000, 37000*(i+1)-4000)\n",
    "        size = random.randint(1,8) * 1000\n",
    "        positions.append(pos)    \n",
    "        \n",
    "        df.loc[pos:pos+size,2] += 100 #duplicated\n",
    "        sizes.append(size)\n",
    "    df.to_csv(\"cnv_duplicated.bed\", sep=\"\\t\", header=None, index=None)\n",
    "    return positions, sizes\n",
    "\n",
    "\n",
    "\n",
    "def create_cnvs_mixed():\n",
    "    df = pd.read_csv(\"simulated.bed\", sep=\"\\t\", header=None)\n",
    "    # we will place 10% of CNV of size from 1000 to 8000\n",
    "    import random\n",
    "    positions = []\n",
    "    sizes = []\n",
    "    for i in range(80):\n",
    "        pos = random.randint(37000*i+4000, 37000*(i+1)-4000)\n",
    "        size = random.randint(1,8) * 1000\n",
    "        positions.append(pos)\n",
    "    \n",
    "        status = random.randint(0,1)\n",
    "    \n",
    "        if status == 0:\n",
    "            df.loc[pos:pos+size,2] -= 50 \n",
    "        elif status == 1:\n",
    "            df.loc[pos:pos+size,2] += 50 \n",
    "        \n",
    "        sizes.append(size)\n",
    "    df.to_csv(\"cnv_mixed.bed\", sep=\"\\t\", header=None, index=None)\n",
    "    return positions, sizes\n",
    "\n"
   ]
  },
  {
   "cell_type": "code",
   "execution_count": 222,
   "metadata": {
    "collapsed": true
   },
   "outputs": [],
   "source": [
    "def check_found(positions, sizes, roi, precision=200, min_size=200):\n",
    "    \"\"\"A simple function to check given the position and size that\n",
    "    the injected CNVs are detected in the ROIs\n",
    "    \n",
    "    We check that the starting or ending position of at least one\n",
    "    ROI coincide with one ROI and that this ROI has at least a length of 200.\n",
    "    \n",
    "    Indeed, injections are at least 1000 bases and noise are generally below 100 bases\n",
    "    as shown above.\n",
    "    \n",
    "    \n",
    "    \"\"\"\n",
    "    found = [False] * len(positions)\n",
    "    i = 0\n",
    "    for position,size in zip(positions, sizes):\n",
    "\n",
    "        for this in roi.iterrows():\n",
    "            this = this[1]        \n",
    "            if (abs(this.start-position)<precision or abs(this.end-position-size)<precision )and this['size'] > min_size:\n",
    "                #print(this.start, this.end, position, size)\n",
    "                found[i] = True\n",
    "                continue\n",
    "        \n",
    "        if found[i] is False:\n",
    "            print(\"position not found {} size={}\".format(position, size))\n",
    "        i+=1\n",
    "    print(\"Found {}\".format(sum(found)))\n",
    "    return \n"
   ]
  },
  {
   "cell_type": "markdown",
   "metadata": {},
   "source": [
    "# Deleted regions are all detected"
   ]
  },
  {
   "cell_type": "code",
   "execution_count": 223,
   "metadata": {},
   "outputs": [
    {
     "name": "stdout",
     "output_type": "stream",
     "text": [
      "\u001b[33mWARNING [sequana]: \u001b[0m \u001b[34mThere is only one chromosome. Selected automatically.\u001b[0m\n",
      "\n",
      "Genome length: 3043210\n",
      "Sequencing depth (DOC):    89.36 \n",
      "Sequencing depth (median):    98.00 \n",
      "Breadth of coverage (BOC) (percent): 89.35 \n",
      "Genome coverage standard deviation :    32.31 \n",
      "Genome coverage coefficient variation :     0.36 \n",
      "Number of mixture model 2 \n",
      "Computing zscore\n",
      "\u001b[33mWARNING [sequana]: \u001b[0m \u001b[34mWarning: k=2 but note that |mu0-mu1| < sigma0. k=1 could be a better choice\u001b[0m\n",
      "Number of ROIs found: 104\n",
      "Low threshold: -4\n",
      "High threshold: 4\n",
      "double-low threshold: -2.0\n",
      "double-high threshold: 2.0\n",
      "sigma and mu of the central distribution: mu=1.025, sigma=0.107\n",
      "Evenness:    0.887\n",
      "Centralness (3 sigma): 0.890000\n",
      "Centralness (4 sigma): 0.893100\n",
      "\n",
      "\n",
      "\n",
      "\u001b[0m"
     ]
    }
   ],
   "source": [
    "# call this only once !!!!\n",
    "positions_deletion, sizes_deletion = create_deletion()\n",
    "!sequana_coverage --input cnv_deletion.bed -o -w 40001 --logging-level WARNING \n",
    "!cp report/*/*/rois.csv rois_cnv_deleted.csv"
   ]
  },
  {
   "cell_type": "code",
   "execution_count": 224,
   "metadata": {},
   "outputs": [
    {
     "name": "stdout",
     "output_type": "stream",
     "text": [
      "102\n"
     ]
    },
    {
     "data": {
      "image/png": "[encoded data removed]",
      "text/plain": [
       "<matplotlib.figure.Figure at 0x7f304bf41b00>"
      ]
     },
     "metadata": {},
     "output_type": "display_data"
    }
   ],
   "source": [
    "rois_deletion = plot_results(\"rois_cnv_deleted.csv\")"
   ]
  },
  {
   "cell_type": "code",
   "execution_count": 225,
   "metadata": {},
   "outputs": [
    {
     "name": "stdout",
     "output_type": "stream",
     "text": [
      "Found 80\n"
     ]
    }
   ],
   "source": [
    "# as precise as 2 base position. Here we put 20 we 2 should give pretty gigh detection\n",
    "# rate already. \n",
    "check_found(positions_deletion, sizes_deletion, rois_deletion, precision=20)"
   ]
  },
  {
   "cell_type": "markdown",
   "metadata": {},
   "source": [
    "# duplicated regions"
   ]
  },
  {
   "cell_type": "code",
   "execution_count": 226,
   "metadata": {},
   "outputs": [
    {
     "name": "stdout",
     "output_type": "stream",
     "text": [
      "\u001b[33mWARNING [sequana]: \u001b[0m \u001b[34mThere is only one chromosome. Selected automatically.\u001b[0m\n",
      "\n",
      "Genome length: 3043210\n",
      "Sequencing depth (DOC):   111.92 \n",
      "Sequencing depth (median):   102.00 \n",
      "Breadth of coverage (BOC) (percent): 100.00 \n",
      "Genome coverage standard deviation :    33.92 \n",
      "Genome coverage coefficient variation :     0.30 \n",
      "Number of mixture model 2 \n",
      "Computing zscore\n",
      "Number of ROIs found: 104\n",
      "Low threshold: -4\n",
      "High threshold: 4\n",
      "double-low threshold: -2.0\n",
      "double-high threshold: 2.0\n",
      "sigma and mu of the central distribution: mu=0.984, sigma=0.1\n",
      "Evenness:    0.901\n",
      "Centralness (3 sigma): 0.877000\n",
      "Centralness (4 sigma): 0.880300\n",
      "\n",
      "\n",
      "\n",
      "\u001b[0m"
     ]
    }
   ],
   "source": [
    "# call this only once !!!!\n",
    "positions_duplicated, sizes_duplicated = create_duplicated()\n",
    "!sequana_coverage --input cnv_duplicated.bed -o -w 40001 --logging-level WARNING \n",
    "!cp report/*/*/rois.csv rois_cnv_duplicated.csv"
   ]
  },
  {
   "cell_type": "code",
   "execution_count": 227,
   "metadata": {},
   "outputs": [
    {
     "name": "stdout",
     "output_type": "stream",
     "text": [
      "102\n"
     ]
    },
    {
     "data": {
      "image/png": "[encoded data removed]",
      "text/plain": [
       "<matplotlib.figure.Figure at 0x7f306932ff28>"
      ]
     },
     "metadata": {},
     "output_type": "display_data"
    }
   ],
   "source": [
    "rois_duplicated = plot_results(\"rois_cnv_duplicated.csv\")"
   ]
  },
  {
   "cell_type": "code",
   "execution_count": 228,
   "metadata": {},
   "outputs": [
    {
     "name": "stdout",
     "output_type": "stream",
     "text": [
      "Found 80\n"
     ]
    }
   ],
   "source": [
    "check_found(positions_duplicated, sizes_duplicated, rois_duplicated, precision=10)"
   ]
  },
  {
   "cell_type": "markdown",
   "metadata": {},
   "source": [
    "# Mixes"
   ]
  },
  {
   "cell_type": "code",
   "execution_count": 190,
   "metadata": {},
   "outputs": [
    {
     "name": "stdout",
     "output_type": "stream",
     "text": [
      "\u001b[33mWARNING [sequana]: \u001b[0m \u001b[34mThere is only one chromosome. Selected automatically.\u001b[0m\n",
      "\n",
      "Genome length: 3043210\n",
      "Sequencing depth (DOC):   100.20 \n",
      "Sequencing depth (median):   100.00 \n",
      "Breadth of coverage (BOC) (percent): 100.00 \n",
      "Genome coverage standard deviation :    19.74 \n",
      "Genome coverage coefficient variation :     0.20 \n",
      "Number of mixture model 2 \n",
      "Computing zscore\n",
      "\u001b[33mWARNING [sequana]: \u001b[0m \u001b[34mWarning: k=2 but note that |mu0-mu1| < sigma0. k=1 could be a better choice\u001b[0m\n",
      "Number of ROIs found: 254\n",
      "Low threshold: -4\n",
      "High threshold: 4\n",
      "double-low threshold: -2.0\n",
      "double-high threshold: 2.0\n",
      "sigma and mu of the central distribution: mu=0.999, sigma=0.089\n",
      "Evenness:    0.937\n",
      "Centralness (3 sigma): 0.872000\n",
      "Centralness (4 sigma): 0.884000\n",
      "\n",
      "\n",
      "\n",
      "\u001b[0m"
     ]
    }
   ],
   "source": [
    "positions_mix, sizes_mix = create_cnvs_mixed()\n",
    "!sequana_coverage --input cnv_mixed.bed -o -w 40001 --logging-level WARNING \n",
    "!cp report/*/*/rois.csv rois_cnv_mixed.csv"
   ]
  },
  {
   "cell_type": "code",
   "execution_count": 191,
   "metadata": {},
   "outputs": [
    {
     "name": "stdout",
     "output_type": "stream",
     "text": [
      "252\n"
     ]
    },
    {
     "data": {
      "image/png": "[encoded data removed]",
      "text/plain": [
       "<matplotlib.figure.Figure at 0x7f304bf78ba8>"
      ]
     },
     "metadata": {},
     "output_type": "display_data"
    }
   ],
   "source": [
    "rois_mixed = plot_results(\"rois_cnv_mixed.csv\")"
   ]
  },
  {
   "cell_type": "code",
   "execution_count": 195,
   "metadata": {},
   "outputs": [
    {
     "name": "stdout",
     "output_type": "stream",
     "text": [
      "Found 80\n"
     ]
    }
   ],
   "source": [
    "check_found(positions_mix, sizes_mix, rois_mixed,precision=20)"
   ]
  },
  {
   "cell_type": "markdown",
   "metadata": {
    "collapsed": true
   },
   "source": [
    "# Conclusions"
   ]
  },
  {
   "cell_type": "markdown",
   "metadata": {
    "collapsed": true
   },
   "source": [
    "- pure simulated: the events that passes the threshold are limited to a few tens of detection with zscore close to the threshold of 4 and with sizes below 100 bases. \n",
    "- Simulated CNVs:\n",
    "    - the 80 deletions are all detected with the correct position and sizes\n",
    "    - the 80 duplications are all detected with the correct position and sizes\n",
    "    - the mix of 80 detection with coverage at 50 and 150 are all detected. Note, however, that some CNVs detections are split in several events. For instance instead of a 3000 length region, two regions of about 1000 and 2000 may be detected separately."
   ]
  },
  {
   "cell_type": "code",
   "execution_count": null,
   "metadata": {
    "collapsed": true
   },
   "outputs": [],
   "source": []
  },
  {
   "cell_type": "code",
   "execution_count": null,
   "metadata": {
    "collapsed": true
   },
   "outputs": [],
   "source": []
  }
 ],
 "metadata": {
  "kernelspec": {
   "display_name": "Python 3",
   "language": "python",
   "name": "python3"
  },
  "language_info": {
   "codemirror_mode": {
    "name": "ipython",
    "version": 3
   },
   "file_extension": ".py",
   "mimetype": "text/x-python",
   "name": "python",
   "nbconvert_exporter": "python",
   "pygments_lexer": "ipython3",
   "version": "3.5.3"
  }
 },
 "nbformat": 4,
 "nbformat_minor": 2
}
