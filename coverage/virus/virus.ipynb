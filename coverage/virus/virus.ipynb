{
 "cells": [
  {
   "cell_type": "markdown",
   "metadata": {},
   "source": [
    "# sequana_coverage test case example (Virus) \n",
    "\n",
    "This notebook creates the BED file provided in \n",
    "- https://github.com/sequana/resources/tree/master/coverage and\n",
    "- https://www.synapse.org/#!Synapse:syn10638358/wiki/465309\n",
    "\n",
    "**WARNING**: you need an account on synapse to get the FastQ files.\n",
    "\n",
    "First, downloads 1 FastQ from Synapse, its reference genome and its genbank annotation. Then, it performs the mapping using BWA to get a BAM file. The BAM file is converted to a BED, which is going to be one input file to our analysis. Finally, we use the coverage tool from Sequana project (i) with the standalone (sequana_coverage) and (ii) the Python library to analyse the BED file.\n",
    "\n",
    "Versions used:\n",
    "- sequana 0.5.0\n",
    "- bwa mem 0.7.15\n",
    "- bedtools 2.26.0\n",
    "- samtools 1.5\n",
    "- synapseclient 1.7.2"
   ]
  },
  {
   "cell_type": "code",
   "execution_count": 16,
   "metadata": {},
   "outputs": [
    {
     "name": "stdout",
     "output_type": "stream",
     "text": [
      "Populating the interactive namespace from numpy and matplotlib\n"
     ]
    }
   ],
   "source": [
    "%pylab inline\n",
    "matplotlib.rcParams['figure.figsize'] = [10,7]"
   ]
  },
  {
   "cell_type": "markdown",
   "metadata": {},
   "source": [
    "# Download the genbank and genome reference"
   ]
  },
  {
   "cell_type": "markdown",
   "metadata": {},
   "source": [
    "### Method1: use sequana_coverage to download from ENA website"
   ]
  },
  {
   "cell_type": "markdown",
   "metadata": {},
   "source": [
    "http://www.ebi.ac.uk/ena/data/view/JB409847"
   ]
  },
  {
   "cell_type": "code",
   "execution_count": null,
   "metadata": {
    "collapsed": true
   },
   "outputs": [],
   "source": [
    "!sequana_coverage --download-reference JB409847 --download-genbank JB409847"
   ]
  },
  {
   "cell_type": "markdown",
   "metadata": {},
   "source": [
    "### Method 2: synapse client (you need a synapse login)\n"
   ]
  },
  {
   "cell_type": "code",
   "execution_count": 5,
   "metadata": {},
   "outputs": [
    {
     "name": "stdout",
     "output_type": "stream",
     "text": [
      "Welcome, Thomas Cokelaer!\n",
      "\n"
     ]
    }
   ],
   "source": [
    "import synapseclient\n",
    "l = synapseclient.login()\n",
    "_ = l.get(\"syn10638368\", downloadLocation=\".\", ifcollision=\"overwrite.local\")\n",
    "_ = l.get(\"syn10638369\", downloadLocation=\".\", ifcollision=\"overwrite.local\")"
   ]
  },
  {
   "cell_type": "markdown",
   "metadata": {},
   "source": [
    "# Download the FastQ"
   ]
  },
  {
   "cell_type": "code",
   "execution_count": 15,
   "metadata": {
    "collapsed": true
   },
   "outputs": [],
   "source": [
    "_ = l.get(\"syn10638367\", downloadLocation=\".\", ifcollision=\"overwrite.local\")"
   ]
  },
  {
   "cell_type": "markdown",
   "metadata": {
    "collapsed": true
   },
   "source": [
    "# Map the reads"
   ]
  },
  {
   "cell_type": "code",
   "execution_count": 8,
   "metadata": {},
   "outputs": [
    {
     "name": "stdout",
     "output_type": "stream",
     "text": [
      "Theoretical Depth of Coverage : 975.9444304117201\n",
      "[bwa_index] Pack FASTA... 0.00 sec\n",
      "[bwa_index] Construct BWT for the packed sequence...\n",
      "[bwa_index] 0.00 seconds elapse.\n",
      "[bwa_index] Update BWT... 0.00 sec\n",
      "[bwa_index] Pack forward-only FASTA... 0.00 sec\n",
      "[bwa_index] Construct SA from BWT and Occ... 0.00 sec\n",
      "[main] Version: 0.7.15-r1140\n",
      "[main] CMD: bwa index JB409847.fa\n",
      "[main] Real time: 0.081 sec; CPU: 0.008 sec\n",
      "[M::bwa_idx_load_from_disk] read 0 ALT contigs\n",
      "[M::process] read 62064 sequences (19318820 bp)...\n",
      "[M::mem_process_seqs] Processed 62064 reads in 4.032 CPU sec, 1.022 real sec\n",
      "[main] Version: 0.7.15-r1140\n",
      "[main] CMD: bwa mem -t 4 -R @RG\\tID:1\\tSM:1\\tPL:illumina -T 30 JB409847.fa JB409847_R1_clean.fastq.gz\n",
      "[main] Real time: 5.213 sec; CPU: 4.472 sec\n",
      "\u001b[0m"
     ]
    }
   ],
   "source": [
    "!sequana_mapping --file1 JB409847_R1_clean.fastq.gz --reference JB409847.fa"
   ]
  },
  {
   "cell_type": "markdown",
   "metadata": {},
   "source": [
    "## Convert the BAM to BED "
   ]
  },
  {
   "cell_type": "code",
   "execution_count": 9,
   "metadata": {
    "collapsed": true
   },
   "outputs": [],
   "source": [
    "!bedtools genomecov -d -ibam JB409847.fa.sorted.bam> JB409847.bed"
   ]
  },
  {
   "cell_type": "markdown",
   "metadata": {},
   "source": [
    "## Filter the BAM file to get a 2-columns BED file"
   ]
  },
  {
   "cell_type": "code",
   "execution_count": 10,
   "metadata": {
    "collapsed": true
   },
   "outputs": [],
   "source": [
    "! samtools view -q 35 -o JB409847.filtered.bam JB409847.fa.sorted.bam\n",
    "! samtools depth -d 20000 JB409847.fa.sorted.bam JB409847.filtered.bam -aa > JB409847.filtered.bed"
   ]
  },
  {
   "cell_type": "code",
   "execution_count": 11,
   "metadata": {
    "collapsed": true
   },
   "outputs": [],
   "source": [
    "from sequana import GenomeCov\n",
    "b = GenomeCov(\"JB409847.filtered.bed\", \"JB409847.gbk\")\n",
    "chromosome = b.chr_list[0]\n",
    "chromosome.running_median(4001, circular=True)\n",
    "chromosome.compute_zscore()"
   ]
  },
  {
   "cell_type": "code",
   "execution_count": 14,
   "metadata": {},
   "outputs": [
    {
     "data": {
      "image/png": "[encoded data removed]",
      "text/plain": [
       "<matplotlib.figure.Figure at 0x7f19785d54a8>"
      ]
     },
     "metadata": {},
     "output_type": "display_data"
    }
   ],
   "source": [
    "chromosome.plot_coverage()"
   ]
  }
 ],
 "metadata": {
  "kernelspec": {
   "display_name": "Python 3",
   "language": "python",
   "name": "python3"
  },
  "language_info": {
   "codemirror_mode": {
    "name": "ipython",
    "version": 3
   },
   "file_extension": ".py",
   "mimetype": "text/x-python",
   "name": "python",
   "nbconvert_exporter": "python",
   "pygments_lexer": "ipython3",
   "version": "3.5.3"
  }
 },
 "nbformat": 4,
 "nbformat_minor": 2
}
