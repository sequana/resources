{
 "cells": [
  {
   "cell_type": "markdown",
   "metadata": {},
   "source": [
    "# Sensitivity of sequana_coverage in detecting CNVs"
   ]
  },
  {
   "cell_type": "markdown",
   "metadata": {},
   "source": [
    "    Author: Thomas Cokelaer\n",
    "    Jan 2018\n",
    "    Local time execution: about 10  minutes"
   ]
  },
  {
   "cell_type": "markdown",
   "metadata": {},
   "source": [
    "# Requirements"
   ]
  },
  {
   "cell_type": "markdown",
   "metadata": {},
   "source": [
    "- sequana version 0.6.4 was used\n",
    "- art_illumina\n",
    "- bioconvert 0.0.12 (optional) or bedtools"
   ]
  },
  {
   "cell_type": "code",
   "execution_count": 1,
   "metadata": {},
   "outputs": [
    {
     "name": "stdout",
     "output_type": "stream",
     "text": [
      "Populating the interactive namespace from numpy and matplotlib\n"
     ]
    }
   ],
   "source": [
    "%pylab inline\n",
    "rcParams['figure.figsize'] = (10,7)"
   ]
  },
  {
   "cell_type": "markdown",
   "metadata": {},
   "source": [
    "# Get the reference \n",
    "\n",
    "There are many ways to download the reference (FN433596). Here below we use sequana_coverage tool but of course, you can use your own tool, or simply go to http://github.com/sequana/resources/coverage (look for FN433596.fasta.bz2)."
   ]
  },
  {
   "cell_type": "code",
   "execution_count": 2,
   "metadata": {},
   "outputs": [
    {
     "name": "stdout",
     "output_type": "stream",
     "text": [
      "\u001b[32mINFO    [sequana]: \u001b[0m \u001b[34mDownloading reference FN433596 from ENA\n",
      "\u001b[0m\n",
      "\u001b[0m"
     ]
    }
   ],
   "source": [
    "!sequana_coverage --download-reference FN433596"
   ]
  },
  {
   "cell_type": "markdown",
   "metadata": {},
   "source": [
    "# Simulated FastQ data "
   ]
  },
  {
   "cell_type": "markdown",
   "metadata": {},
   "source": [
    "Simulation of data coverage 100X\n",
    "\n",
    "```\n",
    "-l: length of the reads\n",
    "-f: coverage\n",
    "-m: mean size of fragments\n",
    "-s: standard deviation of fragment size\n",
    "-ss: type of hiseq\n",
    "```\n",
    "This taks a few minutes to produce "
   ]
  },
  {
   "cell_type": "code",
   "execution_count": 3,
   "metadata": {},
   "outputs": [
    {
     "name": "stdout",
     "output_type": "stream",
     "text": [
      "400\n",
      "200\n",
      "100\n",
      "80\n",
      "60\n",
      "40\n",
      "20\n",
      "10\n"
     ]
    }
   ],
   "source": [
    "import subprocess\n",
    "for DP in [400, 200, 100, 80, 60, 40, 20, 10]:\n",
    "    print(DP)\n",
    "    # Creating the simulated data with expected depth of coverage\n",
    "    cmd = \"art_illumina -sam -i FN433596.fa -p -l 100 -ss HS20 -f 20 -m 500 -s 40 -o paired_dat -f {}\"\n",
    "    cmd = cmd.format(DP)\n",
    "    subprocess.call(cmd.split())\n",
    "    \n",
    "    # Creating the BAM files (deletes previous ones)\n",
    "    # This command uses bwa and samtools behind the scene. \n",
    "    cmd = \"sequana_mapping --reference FN433596.fa --file1 paired_dat1.fq --file2 paired_dat2.fq\"\n",
    "    subprocess.call(cmd.split())\n",
    "    \n",
    "    # creating the BED file once for all\n",
    "    # Here, we use bioconvert (http://bioconvert.readthedocs.io) that uses bedtools behind the scene.\n",
    "    cmd = \"bioconvert FN433596.fa.sorted.bam simulated_{}X.bed -f\".format(DP)\n",
    "    subprocess.call(cmd.split())\n",
    "    "
   ]
  },
  {
   "cell_type": "markdown",
   "metadata": {},
   "source": [
    "# Impact of the window parameter on the normalised coverage distribution (100X case)"
   ]
  },
  {
   "cell_type": "code",
   "execution_count": 6,
   "metadata": {},
   "outputs": [],
   "source": [
    "from sequana import *\n",
    "b = GenomeCov(\"simulated_100X.bed\")\n",
    "c = b.chr_list[0]"
   ]
  },
  {
   "cell_type": "markdown",
   "metadata": {},
   "source": [
    "Let us run the running median / normalisation / zscore computation using several window parameter (e.g 20001, 80001...)"
   ]
  },
  {
   "cell_type": "code",
   "execution_count": 7,
   "metadata": {},
   "outputs": [],
   "source": [
    "c.run(20001, circular=True)\n",
    "data20000 = c.df['cov'] / c.df['rm']"
   ]
  },
  {
   "cell_type": "code",
   "execution_count": 8,
   "metadata": {},
   "outputs": [],
   "source": [
    "c.run(10001, circular=True)\n",
    "data10000 = c.df['cov'] / c.df['rm']"
   ]
  },
  {
   "cell_type": "code",
   "execution_count": 9,
   "metadata": {},
   "outputs": [],
   "source": [
    "c.run(40001, circular=True)\n",
    "data40000 = c.df['cov'] / c.df['rm']\n",
    "\n",
    "c.run(2001, circular=True)\n",
    "data2000 = c.df['cov'] / c.df['rm']\n",
    "\n",
    "c.run(80001, circular=True)\n",
    "data80000 = c.df['cov'] / c.df['rm']\n"
   ]
  },
  {
   "cell_type": "markdown",
   "metadata": {},
   "source": [
    "Window parameter does not seem to have any impact on the distribution of the normalised coverage, which is centered around 1 and same standard deviation."
   ]
  },
  {
   "cell_type": "code",
   "execution_count": 10,
   "metadata": {},
   "outputs": [
    {
     "data": {
      "text/plain": [
       "Text(0.5,0,'normalised coverage')"
      ]
     },
     "execution_count": 10,
     "metadata": {},
     "output_type": "execute_result"
    },
    {
     "data": {
      "image/png": "[encoded data removed]",
      "text/plain": [
       "<matplotlib.figure.Figure at 0x7f0b19dd5278>"
      ]
     },
     "metadata": {},
     "output_type": "display_data"
    }
   ],
   "source": [
    "#_ = hist(data20000, bins=50, alpha=0.5)\n",
    "_ = hist(data40000, bins=50, alpha=0.5)\n",
    "_ = hist(data80000, bins=50, alpha=0.5)\n",
    "_ = hist(data2000, bins=50, alpha=0.5)\n",
    "xlabel(\"normalised coverage\")"
   ]
  },
  {
   "cell_type": "code",
   "execution_count": 11,
   "metadata": {},
   "outputs": [
    {
     "data": {
      "text/plain": [
       "[]"
      ]
     },
     "execution_count": 11,
     "metadata": {},
     "output_type": "execute_result"
    },
    {
     "data": {
      "image/png": "[encoded data removed]",
      "text/plain": [
       "<matplotlib.figure.Figure at 0x7f0b19de49b0>"
      ]
     },
     "metadata": {},
     "output_type": "display_data"
    }
   ],
   "source": [
    "#_ = hist(data20000, bins=50, alpha=0.5)\n",
    "_ = hist(data40000, bins=50, alpha=0.5)\n",
    "_ = hist(data80000, bins=50, alpha=0.5)\n",
    "_ = hist(data2000, bins=50, alpha=0.5)\n",
    "xlabel(\"normalised coverage\")\n",
    "semilogy()"
   ]
  },
  {
   "cell_type": "markdown",
   "metadata": {},
   "source": [
    "Note that if we look at the distribution on a log scale (on Y axis), the distributions are not Gaussian. This is because the mapped data exhibits a mix of distributions. However, the central distribution looks gaussian.\n",
    "Switching to a logy scale and superimposing a normal distribution should convince the reader that this statement is true.\n",
    "    \n",
    "    \n"
   ]
  },
  {
   "cell_type": "code",
   "execution_count": 12,
   "metadata": {},
   "outputs": [
    {
     "data": {
      "text/plain": [
       "<matplotlib.legend.Legend at 0x7f0b0c6b56a0>"
      ]
     },
     "execution_count": 12,
     "metadata": {},
     "output_type": "execute_result"
    },
    {
     "data": {
      "image/png": "[encoded data removed]",
      "text/plain": [
       "<matplotlib.figure.Figure at 0x7f0b0c885550>"
      ]
     },
     "metadata": {},
     "output_type": "display_data"
    }
   ],
   "source": [
    "_ = hist(data40000, bins=50, alpha=0.5, normed=True, label=\"based on simulated data (100X)\")\n",
    "xlabel(\"normalised coverage\")\n",
    "semilogy()\n",
    "\n",
    "datanorm = [normal()/10+1 for x in range(1000000)]\n",
    "_ = hist(datanorm, bins=50, alpha=0.5, normed=True, label=\"theorethical gaussian distribution\")\n",
    "legend()"
   ]
  },
  {
   "cell_type": "markdown",
   "metadata": {},
   "source": [
    "For lower DOC, the gaussian distribution assumption is not True anymore. You have skewed distribution. Events below the mean DOC may be missed. Events above the lean DOC may be over detected. This means that the thresholds should be ajusted. For isntance instead of the default pair (-4,4), one could use (-4, 6)."
   ]
  },
  {
   "cell_type": "code",
   "execution_count": 13,
   "metadata": {},
   "outputs": [
    {
     "data": {
      "text/plain": [
       "(9.4137543837780165e-06, 10)"
      ]
     },
     "execution_count": 13,
     "metadata": {},
     "output_type": "execute_result"
    },
    {
     "data": {
      "image/png": "[encoded data removed]",
      "text/plain": [
       "<matplotlib.figure.Figure at 0x7f0b15fae278>"
      ]
     },
     "metadata": {},
     "output_type": "display_data"
    }
   ],
   "source": [
    "from sequana import *\n",
    "b = GenomeCov(\"simulated_10X.bed\")\n",
    "c = b.chr_list[0]\n",
    "c.run(20001, circular=True)\n",
    "data = c.df[\"cov\"]/c.df['rm']\n",
    "_ = hist(data, bins=30, alpha=0.5, normed=True, label=\"based on simulated data (10X)\")\n",
    "xlabel(\"normalised coverage\")\n",
    "semilogy()\n",
    "\n",
    "datanorm = [normal()/sqrt(10)+1 for x in range(1000000)]\n",
    "_ = hist(datanorm, bins=50, alpha=0.5, normed=True, label=\"theorethical gaussian distribution\")\n",
    "legend()\n",
    "ylim([ylim()[0], 10])"
   ]
  },
  {
   "cell_type": "markdown",
   "metadata": {},
   "source": [
    "# Impact of DOC on the normalised distribution standard deviation"
   ]
  },
  {
   "cell_type": "code",
   "execution_count": 14,
   "metadata": {},
   "outputs": [],
   "source": [
    "DOC =   [4,    6,    8,    10,   20,    40,     60,     80,    100,    200,    400]\n",
    "STDs =  [2,    2.44, 2.82, 3.17, 4.46,  6.31,   7.76,   8.95,  10.08,  14.27,  18.83]\n",
    "CVs =   [0.5,  0.41, 0.35, 0.32, 0.22,  0.16,   0.13,   0.11,  0.10,   0.07,   0.06]\n",
    "stds =  [0.51, 0.41, 0.35, 0.32, 0.225, 0.158,  0.129,  0.111, 0.10,   0.07,   0.055]"
   ]
  },
  {
   "cell_type": "markdown",
   "metadata": {},
   "source": [
    "To obtain the number above, you can use this function:"
   ]
  },
  {
   "cell_type": "code",
   "execution_count": 15,
   "metadata": {},
   "outputs": [],
   "source": [
    "def get_metrics(DOC):\n",
    "    b = GenomeCov(\"simulated_{}X.bed\".format(DOC))\n",
    "    c = b.chr_list[0]\n",
    "    c.run(20001, circular=True)\n",
    "    normed = c.df['cov']/c.df['rm']\n",
    "    DOC = c.df['cov'].mean()\n",
    "    STD = c.df['cov'].std()\n",
    "    return DOC, STD, STD/DOC , std(normed)\n",
    "    "
   ]
  },
  {
   "cell_type": "code",
   "execution_count": 16,
   "metadata": {},
   "outputs": [
    {
     "data": {
      "text/plain": [
       "(19.997308105585876,\n",
       " 4.4843754393923367,\n",
       " 0.22424895469504266,\n",
       " 0.22546291828253889)"
      ]
     },
     "execution_count": 16,
     "metadata": {},
     "output_type": "execute_result"
    }
   ],
   "source": [
    "get_metrics(20)"
   ]
  },
  {
   "cell_type": "markdown",
   "metadata": {},
   "source": [
    "We can see that the standard distribution of the normalised coverage is:\n",
    "    \n",
    "$ \\frac{\\sigma(coverage)}{DOC(coverage)} = CV(coverage)$\n",
    "\n",
    "where CV stands for coefficient of variation"
   ]
  },
  {
   "cell_type": "code",
   "execution_count": 17,
   "metadata": {},
   "outputs": [
    {
     "data": {
      "text/plain": [
       "<matplotlib.lines.Line2D at 0x7f0b1a4f8f28>"
      ]
     },
     "execution_count": 17,
     "metadata": {},
     "output_type": "execute_result"
    },
    {
     "data": {
      "image/png": "[encoded data removed]",
      "text/plain": [
       "<matplotlib.figure.Figure at 0x7f0b0df84208>"
      ]
     },
     "metadata": {},
     "output_type": "display_data"
    }
   ],
   "source": [
    "plot(DOC, CVs, \"o-\")\n",
    "plot(DOC, 1/np.array(DOC)**0.5, \"x--\")\n",
    "xlim([0,250])\n",
    "axvline(10, color=\"r\", ls=\"--\")\n"
   ]
  },
  {
   "cell_type": "code",
   "execution_count": null,
   "metadata": {},
   "outputs": [],
   "source": []
  }
 ],
 "metadata": {
  "kernelspec": {
   "display_name": "Python 3",
   "language": "python",
   "name": "python3"
  },
  "language_info": {
   "codemirror_mode": {
    "name": "ipython",
    "version": 3
   },
   "file_extension": ".py",
   "mimetype": "text/x-python",
   "name": "python",
   "nbconvert_exporter": "python",
   "pygments_lexer": "ipython3",
   "version": "3.5.4"
  }
 },
 "nbformat": 4,
 "nbformat_minor": 2
}
